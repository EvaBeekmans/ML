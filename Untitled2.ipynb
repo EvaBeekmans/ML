{
 "cells": [
  {
   "cell_type": "code",
   "execution_count": null,
   "metadata": {},
   "outputs": [],
   "source": [
    "import pandas as pd\n",
    "import numpy as np\n",
    "import xlrd\n",
    "import openpyxl\n",
    "import sklearn as sk\n",
    "import xgboost as xgb\n",
    "from sklearn.model_selection import train_test_split\n",
    "from sklearn.metrics import balanced_accuracy_score\n",
    "from sklearn.model_selection import GridSearchCV\n",
    "from sklearn.metrics import confusion_matrix\n",
    "from sklearn.metrics import plot_confusion_matrix\n",
    "from sklearn import preprocessing\n",
    "lbl = preprocessing.LabelEncoder()\n",
    "from sklearn.model_selection import cross_val_score, KFold\n",
    "from sklearn.metrics import mean_squared_error\n",
    "from sklearn.metrics import mean_absolute_error\n",
    "from sklearn.metrics import r2_score\n",
    "import matplotlib.pyplot as plt\n",
    "from matplotlib import pyplot\n",
    "from sklearn.metrics import roc_curve\n",
    "from numpy import sqrt\n",
    "from numpy import argmax"
   ]
  },
  {
   "cell_type": "code",
   "execution_count": 7,
   "metadata": {},
   "outputs": [
    {
     "name": "stdout",
     "output_type": "stream",
     "text": [
      "Hello World!\n"
     ]
    }
   ],
   "source": [
    "print('Hello World!')"
   ]
  },
  {
   "cell_type": "code",
   "execution_count": 6,
   "metadata": {},
   "outputs": [
    {
     "name": "stdout",
     "output_type": "stream",
     "text": [
      "   CONTACTNUM       BUREAU  AKTIEKENME  JAARWAARDE   STARTDATE    FREQUENTIE  \\\n",
      "0         356         4DMC     2020119        40.0  20061101.0  Per kwartaal   \n",
      "1         801  SOCIAL CALL     2020118        25.0  20110201.0      Per jaar   \n",
      "2        2387  SOCIAL CALL     2020118        25.0  20120601.0      Per jaar   \n",
      "3        2550           SC     2020117        25.0  20091201.0  Per halfjaar   \n",
      "4        3696  SOCIAL CALL     2020118        36.0  20120301.0     Per maand   \n",
      "\n",
      "   BEDRAG  ENDDATE  P_JAARWAAR  P_STARTDAT  ...  LTSTGIFT_D  HGSTGIFT_D  \\\n",
      "0    10.0      NaN        40.0  20061101.0  ...  20191031.0  20000221.0   \n",
      "1    25.0      NaN        25.0  20110201.0  ...  20180223.0  20150225.0   \n",
      "2    25.0      NaN        25.0  20120601.0  ...  20190625.0  20150624.0   \n",
      "3    12.5      NaN        25.0  20091201.0  ...  20191223.0  20071120.0   \n",
      "4     3.0      NaN        36.0  20120301.0  ...  20191223.0  19990128.0   \n",
      "\n",
      "   EERSTGFT_B  LTSTGIFT_B  HGSTGIFT_B  TOTBEDRAG TOTAANTAL GEMGIFT  \\\n",
      "0         NaN         8.0       11.34     708.85        83    8.54   \n",
      "1         NaN         NaN       25.00     258.84        12   21.57   \n",
      "2         NaN         NaN       25.00     251.77        14   17.98   \n",
      "3         NaN         NaN       25.00     374.27        31   12.07   \n",
      "4         NaN         NaN        4.54     295.62        97    3.05   \n",
      "\n",
      "   KL_TELEFOO  KL_MOBIEL  \n",
      "0           1          0  \n",
      "1           1          0  \n",
      "2           1          1  \n",
      "3           1          0  \n",
      "4           1          0  \n",
      "\n",
      "[5 rows x 83 columns]\n"
     ]
    }
   ],
   "source": [
    "print(df.head())"
   ]
  }
 ],
 "metadata": {
  "kernelspec": {
   "display_name": "Python 3",
   "language": "python",
   "name": "python3"
  },
  "language_info": {
   "codemirror_mode": {
    "name": "ipython",
    "version": 3
   },
   "file_extension": ".py",
   "mimetype": "text/x-python",
   "name": "python",
   "nbconvert_exporter": "python",
   "pygments_lexer": "ipython3",
   "version": "3.8.5"
  }
 },
 "nbformat": 4,
 "nbformat_minor": 4
}
